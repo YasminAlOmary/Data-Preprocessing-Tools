{
  "nbformat": 4,
  "nbformat_minor": 0,
  "metadata": {
    "colab": {
      "provenance": []
    },
    "kernelspec": {
      "name": "python3",
      "display_name": "Python 3"
    },
    "language_info": {
      "name": "python"
    }
  },
  "cells": [
    {
      "cell_type": "markdown",
      "source": [
        "#  Data Preprocessing Tools"
      ],
      "metadata": {
        "id": "bjejz5q8uplx"
      }
    },
    {
      "cell_type": "markdown",
      "source": [
        "\n",
        "### import libraries"
      ],
      "metadata": {
        "id": "I_8xWluwvvUG"
      }
    },
    {
      "cell_type": "code",
      "source": [
        "import numpy as np\n",
        "import pandas as pd\n",
        "import matplotlib.pyplot as plt\n"
      ],
      "metadata": {
        "id": "L0rZdzOcvFEJ"
      },
      "execution_count": 7,
      "outputs": []
    },
    {
      "cell_type": "markdown",
      "source": [
        "### Import dataset"
      ],
      "metadata": {
        "id": "98gb5pQtzSMl"
      }
    },
    {
      "cell_type": "code",
      "source": [
        "dataset= pd.read_csv(\"Data.csv\")\n",
        "x=dataset.iloc[:,:-1].values\n",
        "y=dataset.iloc[:,-1]\n",
        "\n",
        "#  [:,:-1] all row without target /dependent varible column\n",
        "# The colon (:) before the comma means \"select all rows\" in the dataset.\n",
        "#The :-1 after the comma means \"select all columns except the last one.\n",
        "\n",
        "# iloc[:,-1] just i need last column / dependent variable"
      ],
      "metadata": {
        "id": "IOxPRVUwzYRa"
      },
      "execution_count": 9,
      "outputs": []
    },
    {
      "cell_type": "code",
      "source": [
        "print(x)"
      ],
      "metadata": {
        "colab": {
          "base_uri": "https://localhost:8080/"
        },
        "id": "9LotB21D1FxD",
        "outputId": "683c2fe5-647e-4745-f48e-7600d46b8712"
      },
      "execution_count": 10,
      "outputs": [
        {
          "output_type": "stream",
          "name": "stdout",
          "text": [
            "[['France' 44.0 72000.0]\n",
            " ['Spain' 27.0 48000.0]\n",
            " ['Germany' 30.0 54000.0]\n",
            " ['Spain' 38.0 61000.0]\n",
            " ['Germany' 40.0 nan]\n",
            " ['France' 35.0 58000.0]\n",
            " ['Spain' nan 52000.0]\n",
            " ['France' 48.0 79000.0]\n",
            " ['Germany' 50.0 83000.0]\n",
            " ['France' 37.0 67000.0]]\n"
          ]
        }
      ]
    },
    {
      "cell_type": "code",
      "source": [
        "print(y)"
      ],
      "metadata": {
        "colab": {
          "base_uri": "https://localhost:8080/"
        },
        "id": "rQZ0WUbI45Hp",
        "outputId": "a0d22029-cd0a-4834-f16f-68ff92389ba9"
      },
      "execution_count": 11,
      "outputs": [
        {
          "output_type": "stream",
          "name": "stdout",
          "text": [
            "0     No\n",
            "1    Yes\n",
            "2     No\n",
            "3     No\n",
            "4    Yes\n",
            "5    Yes\n",
            "6     No\n",
            "7    Yes\n",
            "8     No\n",
            "9    Yes\n",
            "Name: Purchased, dtype: object\n"
          ]
        }
      ]
    },
    {
      "cell_type": "markdown",
      "source": [
        "### Handling Missing Values"
      ],
      "metadata": {
        "id": "p146gcNuJPwi"
      }
    },
    {
      "cell_type": "code",
      "source": [
        "from sklearn.impute import SimpleImputer\n",
        "imputer=SimpleImputer(missing_values=np.nan,strategy='mean')\n",
        "imputer.fit(x[:,1:3]) # handling missing value in c 1 and 2 by  calculate mean on available data\n",
        "x[:,1:3]=imputer.transform (x[:,1:3])    # replace the missing data by mean when used fit"
      ],
      "metadata": {
        "id": "_2Fe7R5JJb9z"
      },
      "execution_count": 12,
      "outputs": []
    },
    {
      "cell_type": "code",
      "source": [
        "print(x)"
      ],
      "metadata": {
        "colab": {
          "base_uri": "https://localhost:8080/"
        },
        "id": "RdkJGzXsK4f3",
        "outputId": "374361f5-356d-45f6-bebf-0f74e9d48e18"
      },
      "execution_count": null,
      "outputs": [
        {
          "output_type": "stream",
          "name": "stdout",
          "text": [
            "[['France' 44.0 72000.0]\n",
            " ['Spain' 27.0 48000.0]\n",
            " ['Germany' 30.0 54000.0]\n",
            " ['Spain' 38.0 61000.0]\n",
            " ['Germany' 40.0 63777.77777777778]\n",
            " ['France' 35.0 58000.0]\n",
            " ['Spain' 38.77777777777778 52000.0]\n",
            " ['France' 48.0 79000.0]\n",
            " ['Germany' 50.0 83000.0]\n",
            " ['France' 37.0 67000.0]]\n"
          ]
        }
      ]
    },
    {
      "cell_type": "markdown",
      "source": [
        "## Encoding  Categorical Variables"
      ],
      "metadata": {
        "id": "bvAVZBp3TW9T"
      }
    },
    {
      "cell_type": "markdown",
      "source": [
        "### Encoding  Independent Categorical Variables"
      ],
      "metadata": {
        "id": "y0z3oGsOSefB"
      }
    },
    {
      "cell_type": "code",
      "source": [
        "from sklearn.compose import ColumnTransformer\n",
        "from sklearn.preprocessing import OneHotEncoder\n",
        "ct = ColumnTransformer( transformers=[('encoder', OneHotEncoder(), [0])],remainder='passthrough')\n",
        "x=np.array(ct.fit_transform(x))\n"
      ],
      "metadata": {
        "id": "5-oRemIlSbjH"
      },
      "execution_count": 13,
      "outputs": []
    },
    {
      "cell_type": "code",
      "source": [
        "print(x)\n",
        "# the country result as unique Id vector"
      ],
      "metadata": {
        "colab": {
          "base_uri": "https://localhost:8080/"
        },
        "id": "VvXD-xxgX04u",
        "outputId": "564f7c37-fc84-4e92-ce26-be6e013cfdc4"
      },
      "execution_count": 14,
      "outputs": [
        {
          "output_type": "stream",
          "name": "stdout",
          "text": [
            "[[1.0 0.0 0.0 44.0 72000.0]\n",
            " [0.0 0.0 1.0 27.0 48000.0]\n",
            " [0.0 1.0 0.0 30.0 54000.0]\n",
            " [0.0 0.0 1.0 38.0 61000.0]\n",
            " [0.0 1.0 0.0 40.0 63777.77777777778]\n",
            " [1.0 0.0 0.0 35.0 58000.0]\n",
            " [0.0 0.0 1.0 38.77777777777778 52000.0]\n",
            " [1.0 0.0 0.0 48.0 79000.0]\n",
            " [0.0 1.0 0.0 50.0 83000.0]\n",
            " [1.0 0.0 0.0 37.0 67000.0]]\n"
          ]
        }
      ]
    },
    {
      "cell_type": "markdown",
      "source": [
        "### Encoding dependent Categorical Variables"
      ],
      "metadata": {
        "id": "xCakZZikaJPf"
      }
    },
    {
      "cell_type": "code",
      "source": [
        "from sklearn.preprocessing import LabelEncoder\n",
        "le=LabelEncoder()\n",
        "y= le.fit_transform(y)\n",
        "\n",
        "# fit the No=0 / Yes=1 . transform :apply fit and replace"
      ],
      "metadata": {
        "id": "KYDCGaIAaSFX"
      },
      "execution_count": 15,
      "outputs": []
    },
    {
      "cell_type": "code",
      "source": [
        "print(y)"
      ],
      "metadata": {
        "colab": {
          "base_uri": "https://localhost:8080/"
        },
        "id": "uP3cMGz1c0yJ",
        "outputId": "a62706d3-42f0-40c0-e32e-389c4eea6f67"
      },
      "execution_count": 16,
      "outputs": [
        {
          "output_type": "stream",
          "name": "stdout",
          "text": [
            "[0 1 0 0 1 1 0 1 0 1]\n"
          ]
        }
      ]
    },
    {
      "cell_type": "markdown",
      "source": [
        "## Splitting Dataset into Train and Test data"
      ],
      "metadata": {
        "id": "cAOzISLesUVC"
      }
    },
    {
      "cell_type": "code",
      "source": [
        "from sklearn.model_selection import train_test_split\n",
        "x_train ,x_test ,y_train ,y_test =train_test_split(x,y,test_size=0.2, random_state=1)\n",
        "#apply train test split for data / 20% of data is testing and 80% of data is training"
      ],
      "metadata": {
        "id": "PP6aWGK4tO0P"
      },
      "execution_count": 19,
      "outputs": []
    },
    {
      "cell_type": "code",
      "source": [
        "x_train\n",
        "# 80% of data for train / 8 rows"
      ],
      "metadata": {
        "colab": {
          "base_uri": "https://localhost:8080/"
        },
        "id": "fNyy--9rveBy",
        "outputId": "94c87dbe-78c8-4be6-e08a-ae164eb18ff1"
      },
      "execution_count": 20,
      "outputs": [
        {
          "output_type": "execute_result",
          "data": {
            "text/plain": [
              "array([[0.0, 0.0, 1.0, 38.77777777777778, 52000.0],\n",
              "       [0.0, 1.0, 0.0, 40.0, 63777.77777777778],\n",
              "       [1.0, 0.0, 0.0, 44.0, 72000.0],\n",
              "       [0.0, 0.0, 1.0, 38.0, 61000.0],\n",
              "       [0.0, 0.0, 1.0, 27.0, 48000.0],\n",
              "       [1.0, 0.0, 0.0, 48.0, 79000.0],\n",
              "       [0.0, 1.0, 0.0, 50.0, 83000.0],\n",
              "       [1.0, 0.0, 0.0, 35.0, 58000.0]], dtype=object)"
            ]
          },
          "metadata": {},
          "execution_count": 20
        }
      ]
    },
    {
      "cell_type": "code",
      "source": [
        "x_test\n",
        "# 20% of data for test / 2 rows"
      ],
      "metadata": {
        "colab": {
          "base_uri": "https://localhost:8080/"
        },
        "id": "wjRpk4s7yUyA",
        "outputId": "35f4a148-01b8-4862-b5a0-f534ee8262c0"
      },
      "execution_count": 21,
      "outputs": [
        {
          "output_type": "execute_result",
          "data": {
            "text/plain": [
              "array([[0.0, 1.0, 0.0, 30.0, 54000.0],\n",
              "       [1.0, 0.0, 0.0, 37.0, 67000.0]], dtype=object)"
            ]
          },
          "metadata": {},
          "execution_count": 21
        }
      ]
    },
    {
      "cell_type": "markdown",
      "source": [
        "## Feature Scaling"
      ],
      "metadata": {
        "id": "x0ZYWaS35PiE"
      }
    },
    {
      "cell_type": "code",
      "source": [
        "from sklearn.preprocessing import StandardScaler\n",
        "sc=StandardScaler()\n",
        "x_train[:,3:]=sc.fit_transform (x_train[:,3:])\n",
        "x_test [:,3:]=sc.transform(x_test [:,3:])\n",
        "\n",
        "# x_train[] : means what the coloum i need to do feature scaling and c3 and c4 based on x_train result"
      ],
      "metadata": {
        "id": "EyowyNR95af1"
      },
      "execution_count": 24,
      "outputs": []
    },
    {
      "cell_type": "code",
      "source": [
        "x_train"
      ],
      "metadata": {
        "colab": {
          "base_uri": "https://localhost:8080/"
        },
        "id": "GCa9b_DlCcTx",
        "outputId": "916f49a8-12ec-4578-d928-eee22704cf23"
      },
      "execution_count": 25,
      "outputs": [
        {
          "output_type": "execute_result",
          "data": {
            "text/plain": [
              "array([[0.0, 0.0, 1.0, -0.19159184384578554, -1.0781259408412427],\n",
              "       [0.0, 1.0, 0.0, -0.014117293757057846, -0.07013167641635404],\n",
              "       [1.0, 0.0, 0.0, 0.5667085065333239, 0.6335624327104546],\n",
              "       [0.0, 0.0, 1.0, -0.3045301939022487, -0.307866172742979],\n",
              "       [0.0, 0.0, 1.0, -1.901801144700799, -1.4204636155515822],\n",
              "       [1.0, 0.0, 0.0, 1.1475343068237056, 1.2326533634535488],\n",
              "       [0.0, 1.0, 0.0, 1.4379472069688966, 1.5749910381638883],\n",
              "       [1.0, 0.0, 0.0, -0.7401495441200352, -0.5646194287757336]],\n",
              "      dtype=object)"
            ]
          },
          "metadata": {},
          "execution_count": 25
        }
      ]
    },
    {
      "cell_type": "code",
      "source": [
        "x_test"
      ],
      "metadata": {
        "colab": {
          "base_uri": "https://localhost:8080/"
        },
        "id": "8e5QL9EQKzv-",
        "outputId": "8ad1c1d6-dab2-4fae-9069-50f1b7d4f606"
      },
      "execution_count": 26,
      "outputs": [
        {
          "output_type": "execute_result",
          "data": {
            "text/plain": [
              "array([[0.0, 1.0, 0.0, 30.0, 54000.0],\n",
              "       [1.0, 0.0, 0.0, 37.0, 67000.0]], dtype=object)"
            ]
          },
          "metadata": {},
          "execution_count": 26
        }
      ]
    },
    {
      "cell_type": "code",
      "source": [],
      "metadata": {
        "id": "pspr8u1YK5S_"
      },
      "execution_count": null,
      "outputs": []
    }
  ]
}